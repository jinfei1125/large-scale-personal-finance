{
 "cells": [
  {
   "cell_type": "markdown",
   "metadata": {},
   "source": [
    "# Data Collection and Uploading to AWS\n",
    "In this notebook, I collect Reddit Posts with Pushshift API and upload them to AWS S3 bucket.\n",
    "Collect Data with Pushshift API and upload Data to AWS S3 bucket."
   ]
  },
  {
   "cell_type": "code",
   "execution_count": 6,
   "metadata": {},
   "outputs": [],
   "source": [
    "import pandas as pd\n",
    "from pmaw import PushshiftAPI\n",
    "from scrape_reddit import *\n",
    "\n",
    "api = PushshiftAPI()"
   ]
  },
  {
   "cell_type": "code",
   "execution_count": 3,
   "metadata": {},
   "outputs": [],
   "source": [
    "def scrape(subreddit, limit, before_date, after_date):\n",
    "    '''\n",
    "    Input:\n",
    "        subreddit(str): the redit handle\n",
    "        limit(int): the limit of scraping result\n",
    "        before_date(str): format '2021-02-01'\n",
    "        after_date(str): format '2020-12-01'\n",
    "    Output: A csv file of scraped result\n",
    "    Return: Pandas dataframe of scraped result\n",
    "    '''\n",
    "    before = int(dt.datetime.strptime(before_date, '%Y-%m-%d').timestamp())\n",
    "    after = int(dt.datetime.strptime(after_date, '%Y-%m-%d').timestamp())\n",
    "\n",
    "    submissions = api.search_submissions(subreddit=subreddit, \n",
    "                                   limit=limit, \n",
    "                                   before=before, \n",
    "                                   after=after)\n",
    "\n",
    "    print(f'Retrieved {len(submissions)} submissions from Pushshift')\n",
    "\n",
    "    f = f'{subreddit}_{after_date}_{before_date}.csv'\n",
    "    submissions_df = pd.DataFrame(submissions)\n",
    "    submissions_df.to_csv(f, header=True, index=False)"
   ]
  },
  {
   "cell_type": "code",
   "execution_count": 4,
   "metadata": {},
   "outputs": [],
   "source": [
    "# Only run this once to scrape data--cost long time to run\n",
    "# scrape(subreddit='personalfinance', limit=10000000, before_date='2020-01-01', after_date='2021-01-01')"
   ]
  },
  {
   "cell_type": "markdown",
   "metadata": {},
   "source": [
    "## Upload Files to S3\n",
    "In this part, I used boto3 to, create a buckte `large-scale-computing-personal-finance` upload files to it. (Though, I found mannually uploading files is very convenient, too)"
   ]
  },
  {
   "cell_type": "code",
   "execution_count": 14,
   "metadata": {},
   "outputs": [],
   "source": [
    "import boto3\n",
    "import os"
   ]
  },
  {
   "cell_type": "code",
   "execution_count": 15,
   "metadata": {},
   "outputs": [],
   "source": [
    "s3 = boto3.client('s3')\n",
    "s3_resource = boto3.resource('s3')"
   ]
  },
  {
   "cell_type": "code",
   "execution_count": 9,
   "metadata": {},
   "outputs": [],
   "source": [
    "bucket = s3.create_bucket(Bucket='large-scale-computing-personal-finance')"
   ]
  },
  {
   "cell_type": "code",
   "execution_count": 11,
   "metadata": {},
   "outputs": [
    {
     "name": "stdout",
     "output_type": "stream",
     "text": [
      "[{'Name': 'aws-emr-resources-580185021087-us-east-1', 'CreationDate': datetime.datetime(2021, 5, 12, 12, 17, 32, tzinfo=tzutc())}, {'Name': 'aws-logs-580185021087-us-east-1', 'CreationDate': datetime.datetime(2021, 5, 12, 12, 17, 32, tzinfo=tzutc())}, {'Name': 'large-scale-computing-personal-finance', 'CreationDate': datetime.datetime(2021, 6, 2, 13, 52, 56, tzinfo=tzutc())}]\n"
     ]
    }
   ],
   "source": [
    "# check if it's already there\n",
    "bucket_response = s3.list_buckets()\n",
    "buckets = bucket_response['Buckets']\n",
    "print(buckets)"
   ]
  },
  {
   "cell_type": "code",
   "execution_count": 13,
   "metadata": {},
   "outputs": [],
   "source": [
    "directory = 'data/flair'\n",
    "\n",
    "for filename in os.listdir(directory):\n",
    "    if filename.endswith(\".csv\"): \n",
    "        key = filename\n",
    "        local_path = os.path.join('data/flair', filename)\n",
    "        s3.upload_file(Filename=local_path, \n",
    "               Bucket='large-scale-computing-personal-finance',\n",
    "               Key = key)"
   ]
  },
  {
   "cell_type": "code",
   "execution_count": 16,
   "metadata": {},
   "outputs": [
    {
     "name": "stdout",
     "output_type": "stream",
     "text": [
      "20\n"
     ]
    }
   ],
   "source": [
    "# list objects in a bucket\n",
    "response = s3.list_objects(\n",
    "            Bucket='large-scale-computing-personal-finance',\n",
    "            MaxKeys=20)\n",
    "print(len(response['Contents']))"
   ]
  },
  {
   "cell_type": "code",
   "execution_count": 17,
   "metadata": {},
   "outputs": [
    {
     "data": {
      "text/plain": [
       "[{'Key': 'Auto.csv',\n",
       "  'LastModified': datetime.datetime(2021, 6, 2, 15, 4, 48, tzinfo=tzutc()),\n",
       "  'ETag': '\"81177abeff9f859ef267a19a836f87f6\"',\n",
       "  'Size': 7675148,\n",
       "  'StorageClass': 'STANDARD',\n",
       "  'Owner': {'DisplayName': 'awslabsc0w2127751t1616889910',\n",
       "   'ID': '787d08c84da3b2a4683006801a9d870fccb9d403324a6b5b6c6b37e8687c7895'}},\n",
       " {'Key': 'Budgeting.csv',\n",
       "  'LastModified': datetime.datetime(2021, 6, 2, 15, 5, 21, tzinfo=tzutc()),\n",
       "  'ETag': '\"1afd4fb7c6df0387e6f7272255a68913\"',\n",
       "  'Size': 4315060,\n",
       "  'StorageClass': 'STANDARD',\n",
       "  'Owner': {'DisplayName': 'awslabsc0w2127751t1616889910',\n",
       "   'ID': '787d08c84da3b2a4683006801a9d870fccb9d403324a6b5b6c6b37e8687c7895'}},\n",
       " {'Key': 'Credit.csv',\n",
       "  'LastModified': datetime.datetime(2021, 6, 2, 15, 5, 40, tzinfo=tzutc()),\n",
       "  'ETag': '\"3a181cf743e2753fac1dd85fd5f5b042-2\"',\n",
       "  'Size': 12214040,\n",
       "  'StorageClass': 'STANDARD',\n",
       "  'Owner': {'DisplayName': 'awslabsc0w2127751t1616889910',\n",
       "   'ID': '787d08c84da3b2a4683006801a9d870fccb9d403324a6b5b6c6b37e8687c7895'}},\n",
       " {'Key': 'Debt.csv',\n",
       "  'LastModified': datetime.datetime(2021, 6, 2, 15, 6, 32, tzinfo=tzutc()),\n",
       "  'ETag': '\"d4f8f533fae478d23b7fc8a4e0e4f48d-2\"',\n",
       "  'Size': 15376323,\n",
       "  'StorageClass': 'STANDARD',\n",
       "  'Owner': {'DisplayName': 'awslabsc0w2127751t1616889910',\n",
       "   'ID': '787d08c84da3b2a4683006801a9d870fccb9d403324a6b5b6c6b37e8687c7895'}},\n",
       " {'Key': 'Employment.csv',\n",
       "  'LastModified': datetime.datetime(2021, 6, 2, 15, 7, 42, tzinfo=tzutc()),\n",
       "  'ETag': '\"cbf33ed8f02a0185e31cfb5f92cfb576-2\"',\n",
       "  'Size': 8392444,\n",
       "  'StorageClass': 'STANDARD',\n",
       "  'Owner': {'DisplayName': 'awslabsc0w2127751t1616889910',\n",
       "   'ID': '787d08c84da3b2a4683006801a9d870fccb9d403324a6b5b6c6b37e8687c7895'}},\n",
       " {'Key': 'Housing.csv',\n",
       "  'LastModified': datetime.datetime(2021, 6, 2, 15, 8, 21, tzinfo=tzutc()),\n",
       "  'ETag': '\"59ddd89009379508c445349ae96425c4-2\"',\n",
       "  'Size': 15045355,\n",
       "  'StorageClass': 'STANDARD',\n",
       "  'Owner': {'DisplayName': 'awslabsc0w2127751t1616889910',\n",
       "   'ID': '787d08c84da3b2a4683006801a9d870fccb9d403324a6b5b6c6b37e8687c7895'}},\n",
       " {'Key': 'Insurance.csv',\n",
       "  'LastModified': datetime.datetime(2021, 6, 2, 15, 9, 29, tzinfo=tzutc()),\n",
       "  'ETag': '\"c7ee8b521ea78d6aef8bea04c25af72d\"',\n",
       "  'Size': 4564921,\n",
       "  'StorageClass': 'STANDARD',\n",
       "  'Owner': {'DisplayName': 'awslabsc0w2127751t1616889910',\n",
       "   'ID': '787d08c84da3b2a4683006801a9d870fccb9d403324a6b5b6c6b37e8687c7895'}},\n",
       " {'Key': 'Investing.csv',\n",
       "  'LastModified': datetime.datetime(2021, 6, 2, 15, 9, 50, tzinfo=tzutc()),\n",
       "  'ETag': '\"ebc51270132a921ea46e8ed1fdda322b-2\"',\n",
       "  'Size': 10827019,\n",
       "  'StorageClass': 'STANDARD',\n",
       "  'Owner': {'DisplayName': 'awslabsc0w2127751t1616889910',\n",
       "   'ID': '787d08c84da3b2a4683006801a9d870fccb9d403324a6b5b6c6b37e8687c7895'}},\n",
       " {'Key': 'Other.csv',\n",
       "  'LastModified': datetime.datetime(2021, 6, 2, 15, 10, 40, tzinfo=tzutc()),\n",
       "  'ETag': '\"9820e204284a9bdac04964fafa82792c\"',\n",
       "  'Size': 6075642,\n",
       "  'StorageClass': 'STANDARD',\n",
       "  'Owner': {'DisplayName': 'awslabsc0w2127751t1616889910',\n",
       "   'ID': '787d08c84da3b2a4683006801a9d870fccb9d403324a6b5b6c6b37e8687c7895'}},\n",
       " {'Key': 'Planning.csv',\n",
       "  'LastModified': datetime.datetime(2021, 6, 2, 15, 11, 8, tzinfo=tzutc()),\n",
       "  'ETag': '\"770efde11988379c80ecae1ac3e621f2\"',\n",
       "  'Size': 7204004,\n",
       "  'StorageClass': 'STANDARD',\n",
       "  'Owner': {'DisplayName': 'awslabsc0w2127751t1616889910',\n",
       "   'ID': '787d08c84da3b2a4683006801a9d870fccb9d403324a6b5b6c6b37e8687c7895'}},\n",
       " {'Key': 'Retirement.csv',\n",
       "  'LastModified': datetime.datetime(2021, 6, 2, 15, 11, 41, tzinfo=tzutc()),\n",
       "  'ETag': '\"1d053924f4302acc6aabbb3b2f6f63d0-2\"',\n",
       "  'Size': 12221872,\n",
       "  'StorageClass': 'STANDARD',\n",
       "  'Owner': {'DisplayName': 'awslabsc0w2127751t1616889910',\n",
       "   'ID': '787d08c84da3b2a4683006801a9d870fccb9d403324a6b5b6c6b37e8687c7895'}},\n",
       " {'Key': 'Saving.csv',\n",
       "  'LastModified': datetime.datetime(2021, 6, 2, 15, 12, 39, tzinfo=tzutc()),\n",
       "  'ETag': '\"181bfbd9e8809ba302367577fe536c82\"',\n",
       "  'Size': 5937855,\n",
       "  'StorageClass': 'STANDARD',\n",
       "  'Owner': {'DisplayName': 'awslabsc0w2127751t1616889910',\n",
       "   'ID': '787d08c84da3b2a4683006801a9d870fccb9d403324a6b5b6c6b37e8687c7895'}},\n",
       " {'Key': 'Taxes.csv',\n",
       "  'LastModified': datetime.datetime(2021, 6, 2, 15, 13, 7, tzinfo=tzutc()),\n",
       "  'ETag': '\"3920bce500b51261fd5ec32bba893d70-2\"',\n",
       "  'Size': 9720603,\n",
       "  'StorageClass': 'STANDARD',\n",
       "  'Owner': {'DisplayName': 'awslabsc0w2127751t1616889910',\n",
       "   'ID': '787d08c84da3b2a4683006801a9d870fccb9d403324a6b5b6c6b37e8687c7895'}},\n",
       " {'Key': 'pf_2020_cleaned.csv',\n",
       "  'LastModified': datetime.datetime(2021, 6, 3, 2, 15, 18, tzinfo=tzutc()),\n",
       "  'ETag': '\"7b1306a6157895660d47439b6a282dda-7\"',\n",
       "  'Size': 119569494,\n",
       "  'StorageClass': 'STANDARD',\n",
       "  'Owner': {'DisplayName': 'awslabsc0w2127751t1616889910',\n",
       "   'ID': '787d08c84da3b2a4683006801a9d870fccb9d403324a6b5b6c6b37e8687c7895'}},\n",
       " {'Key': 'raw-data/',\n",
       "  'LastModified': datetime.datetime(2021, 6, 3, 21, 56, 23, tzinfo=tzutc()),\n",
       "  'ETag': '\"d41d8cd98f00b204e9800998ecf8427e\"',\n",
       "  'Size': 0,\n",
       "  'StorageClass': 'STANDARD',\n",
       "  'Owner': {'DisplayName': 'awslabsc0w2127751t1616889910',\n",
       "   'ID': '787d08c84da3b2a4683006801a9d870fccb9d403324a6b5b6c6b37e8687c7895'}},\n",
       " {'Key': 'raw-data/personalfinance_2013-01-01_2014-01-01.csv',\n",
       "  'LastModified': datetime.datetime(2021, 6, 3, 21, 58, 41, tzinfo=tzutc()),\n",
       "  'ETag': '\"fa18000f4c65f0cbdc466867ea4dd0c6-3\"',\n",
       "  'Size': 36721474,\n",
       "  'StorageClass': 'STANDARD',\n",
       "  'Owner': {'DisplayName': 'awslabsc0w2127751t1616889910',\n",
       "   'ID': '787d08c84da3b2a4683006801a9d870fccb9d403324a6b5b6c6b37e8687c7895'}},\n",
       " {'Key': 'raw-data/personalfinance_2014-01-01_2015-01-01.csv',\n",
       "  'LastModified': datetime.datetime(2021, 6, 3, 21, 58, 41, tzinfo=tzutc()),\n",
       "  'ETag': '\"8c36c450f4a5860b6b9e2dcadf10491b-6\"',\n",
       "  'Size': 88670925,\n",
       "  'StorageClass': 'STANDARD',\n",
       "  'Owner': {'DisplayName': 'awslabsc0w2127751t1616889910',\n",
       "   'ID': '787d08c84da3b2a4683006801a9d870fccb9d403324a6b5b6c6b37e8687c7895'}},\n",
       " {'Key': 'raw-data/personalfinance_2015-01-01_2016-01-01.csv',\n",
       "  'LastModified': datetime.datetime(2021, 6, 3, 21, 58, 41, tzinfo=tzutc()),\n",
       "  'ETag': '\"5afc550ac79229a055f05c3b2de3f152-10\"',\n",
       "  'Size': 160290692,\n",
       "  'StorageClass': 'STANDARD',\n",
       "  'Owner': {'DisplayName': 'awslabsc0w2127751t1616889910',\n",
       "   'ID': '787d08c84da3b2a4683006801a9d870fccb9d403324a6b5b6c6b37e8687c7895'}},\n",
       " {'Key': 'raw-data/personalfinance_2016-01-01_2017-01-01.csv',\n",
       "  'LastModified': datetime.datetime(2021, 6, 3, 21, 58, 41, tzinfo=tzutc()),\n",
       "  'ETag': '\"3cc327340bb1b6908aa57e2a753b30e5-11\"',\n",
       "  'Size': 173782888,\n",
       "  'StorageClass': 'STANDARD',\n",
       "  'Owner': {'DisplayName': 'awslabsc0w2127751t1616889910',\n",
       "   'ID': '787d08c84da3b2a4683006801a9d870fccb9d403324a6b5b6c6b37e8687c7895'}},\n",
       " {'Key': 'raw-data/personalfinance_2017-01-01_2018-01-01.csv',\n",
       "  'LastModified': datetime.datetime(2021, 6, 3, 21, 58, 41, tzinfo=tzutc()),\n",
       "  'ETag': '\"98ad46059e7702f6e8e08c2e06415e6d-13\"',\n",
       "  'Size': 210733011,\n",
       "  'StorageClass': 'STANDARD',\n",
       "  'Owner': {'DisplayName': 'awslabsc0w2127751t1616889910',\n",
       "   'ID': '787d08c84da3b2a4683006801a9d870fccb9d403324a6b5b6c6b37e8687c7895'}}]"
      ]
     },
     "execution_count": 17,
     "metadata": {},
     "output_type": "execute_result"
    }
   ],
   "source": [
    "response['Contents']"
   ]
  },
  {
   "cell_type": "code",
   "execution_count": null,
   "metadata": {},
   "outputs": [],
   "source": []
  }
 ],
 "metadata": {
  "kernelspec": {
   "display_name": "Python 3",
   "language": "python",
   "name": "python3"
  },
  "language_info": {
   "codemirror_mode": {
    "name": "ipython",
    "version": 3
   },
   "file_extension": ".py",
   "mimetype": "text/x-python",
   "name": "python",
   "nbconvert_exporter": "python",
   "pygments_lexer": "ipython3",
   "version": "3.8.5"
  }
 },
 "nbformat": 4,
 "nbformat_minor": 4
}
