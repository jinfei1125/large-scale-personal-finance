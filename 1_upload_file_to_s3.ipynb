{
 "cells": [
  {
   "cell_type": "code",
   "execution_count": 19,
   "metadata": {},
   "outputs": [],
   "source": [
    "import boto3\n",
    "import os"
   ]
  },
  {
   "cell_type": "code",
   "execution_count": 6,
   "metadata": {},
   "outputs": [],
   "source": [
    "s3 = boto3.client('s3')\n",
    "s3_resource = boto3.resource('s3')"
   ]
  },
  {
   "cell_type": "code",
   "execution_count": 9,
   "metadata": {},
   "outputs": [],
   "source": [
    "bucket = s3.create_bucket(Bucket='large-scale-computing-personal-finance')"
   ]
  },
  {
   "cell_type": "code",
   "execution_count": 10,
   "metadata": {},
   "outputs": [],
   "source": [
    "# check if it's already there\n",
    "bucket_response = s3.list_buckets()"
   ]
  },
  {
   "cell_type": "code",
   "execution_count": 11,
   "metadata": {},
   "outputs": [
    {
     "name": "stdout",
     "output_type": "stream",
     "text": [
      "[{'Name': 'aws-emr-resources-580185021087-us-east-1', 'CreationDate': datetime.datetime(2021, 5, 12, 12, 17, 32, tzinfo=tzutc())}, {'Name': 'aws-logs-580185021087-us-east-1', 'CreationDate': datetime.datetime(2021, 5, 12, 12, 17, 32, tzinfo=tzutc())}, {'Name': 'large-scale-computing-personal-finance', 'CreationDate': datetime.datetime(2021, 6, 2, 13, 52, 56, tzinfo=tzutc())}]\n"
     ]
    }
   ],
   "source": [
    "buckets = bucket_response['Buckets']\n",
    "print(buckets)"
   ]
  },
  {
   "cell_type": "code",
   "execution_count": 14,
   "metadata": {},
   "outputs": [
    {
     "data": {
      "text/plain": [
       "'/home/jinfei/practice/personal-finance'"
      ]
     },
     "execution_count": 14,
     "metadata": {},
     "output_type": "execute_result"
    }
   ],
   "source": [
    "cwd = os.getcwd()\n",
    "cwd"
   ]
  },
  {
   "cell_type": "code",
   "execution_count": 30,
   "metadata": {},
   "outputs": [
    {
     "name": "stdout",
     "output_type": "stream",
     "text": [
      "Auto.csv data/flair/Auto.csv\n",
      "Budgeting.csv data/flair/Budgeting.csv\n",
      "Credit.csv data/flair/Credit.csv\n",
      "Debt.csv data/flair/Debt.csv\n",
      "Employment.csv data/flair/Employment.csv\n",
      "Housing.csv data/flair/Housing.csv\n",
      "Insurance.csv data/flair/Insurance.csv\n",
      "Investing.csv data/flair/Investing.csv\n",
      "Other.csv data/flair/Other.csv\n",
      "Planning.csv data/flair/Planning.csv\n",
      "Retirement.csv data/flair/Retirement.csv\n",
      "Saving.csv data/flair/Saving.csv\n",
      "Taxes.csv data/flair/Taxes.csv\n"
     ]
    }
   ],
   "source": [
    "directory = 'data/flair'\n",
    "\n",
    "for filename in os.listdir(directory):\n",
    "    if filename.endswith(\".csv\"): \n",
    "        key = filename\n",
    "        local_path = os.path.join('data/flair', filename)\n",
    "        print(key, local_path)\n",
    "        s3.upload_file(Filename=local_path, \n",
    "               Bucket='large-scale-computing-personal-finance',\n",
    "               Key = key)"
   ]
  },
  {
   "cell_type": "code",
   "execution_count": 41,
   "metadata": {},
   "outputs": [
    {
     "name": "stdout",
     "output_type": "stream",
     "text": [
      "13\n"
     ]
    }
   ],
   "source": [
    "# list objects in a bucket\n",
    "response = s3.list_objects(\n",
    "            Bucket='large-scale-computing-personal-finance',\n",
    "            MaxKeys=20)\n",
    "print(len(response['Contents']))"
   ]
  },
  {
   "cell_type": "code",
   "execution_count": 42,
   "metadata": {},
   "outputs": [
    {
     "data": {
      "text/plain": [
       "[{'Key': 'Auto.csv',\n",
       "  'LastModified': datetime.datetime(2021, 6, 2, 15, 4, 48, tzinfo=tzutc()),\n",
       "  'ETag': '\"81177abeff9f859ef267a19a836f87f6\"',\n",
       "  'Size': 7675148,\n",
       "  'StorageClass': 'STANDARD',\n",
       "  'Owner': {'DisplayName': 'awslabsc0w2127751t1616889910',\n",
       "   'ID': '787d08c84da3b2a4683006801a9d870fccb9d403324a6b5b6c6b37e8687c7895'}},\n",
       " {'Key': 'Budgeting.csv',\n",
       "  'LastModified': datetime.datetime(2021, 6, 2, 15, 5, 21, tzinfo=tzutc()),\n",
       "  'ETag': '\"1afd4fb7c6df0387e6f7272255a68913\"',\n",
       "  'Size': 4315060,\n",
       "  'StorageClass': 'STANDARD',\n",
       "  'Owner': {'DisplayName': 'awslabsc0w2127751t1616889910',\n",
       "   'ID': '787d08c84da3b2a4683006801a9d870fccb9d403324a6b5b6c6b37e8687c7895'}},\n",
       " {'Key': 'Credit.csv',\n",
       "  'LastModified': datetime.datetime(2021, 6, 2, 15, 5, 40, tzinfo=tzutc()),\n",
       "  'ETag': '\"3a181cf743e2753fac1dd85fd5f5b042-2\"',\n",
       "  'Size': 12214040,\n",
       "  'StorageClass': 'STANDARD',\n",
       "  'Owner': {'DisplayName': 'awslabsc0w2127751t1616889910',\n",
       "   'ID': '787d08c84da3b2a4683006801a9d870fccb9d403324a6b5b6c6b37e8687c7895'}},\n",
       " {'Key': 'Debt.csv',\n",
       "  'LastModified': datetime.datetime(2021, 6, 2, 15, 6, 32, tzinfo=tzutc()),\n",
       "  'ETag': '\"d4f8f533fae478d23b7fc8a4e0e4f48d-2\"',\n",
       "  'Size': 15376323,\n",
       "  'StorageClass': 'STANDARD',\n",
       "  'Owner': {'DisplayName': 'awslabsc0w2127751t1616889910',\n",
       "   'ID': '787d08c84da3b2a4683006801a9d870fccb9d403324a6b5b6c6b37e8687c7895'}},\n",
       " {'Key': 'Employment.csv',\n",
       "  'LastModified': datetime.datetime(2021, 6, 2, 15, 7, 42, tzinfo=tzutc()),\n",
       "  'ETag': '\"cbf33ed8f02a0185e31cfb5f92cfb576-2\"',\n",
       "  'Size': 8392444,\n",
       "  'StorageClass': 'STANDARD',\n",
       "  'Owner': {'DisplayName': 'awslabsc0w2127751t1616889910',\n",
       "   'ID': '787d08c84da3b2a4683006801a9d870fccb9d403324a6b5b6c6b37e8687c7895'}},\n",
       " {'Key': 'Housing.csv',\n",
       "  'LastModified': datetime.datetime(2021, 6, 2, 15, 8, 21, tzinfo=tzutc()),\n",
       "  'ETag': '\"59ddd89009379508c445349ae96425c4-2\"',\n",
       "  'Size': 15045355,\n",
       "  'StorageClass': 'STANDARD',\n",
       "  'Owner': {'DisplayName': 'awslabsc0w2127751t1616889910',\n",
       "   'ID': '787d08c84da3b2a4683006801a9d870fccb9d403324a6b5b6c6b37e8687c7895'}},\n",
       " {'Key': 'Insurance.csv',\n",
       "  'LastModified': datetime.datetime(2021, 6, 2, 15, 9, 29, tzinfo=tzutc()),\n",
       "  'ETag': '\"c7ee8b521ea78d6aef8bea04c25af72d\"',\n",
       "  'Size': 4564921,\n",
       "  'StorageClass': 'STANDARD',\n",
       "  'Owner': {'DisplayName': 'awslabsc0w2127751t1616889910',\n",
       "   'ID': '787d08c84da3b2a4683006801a9d870fccb9d403324a6b5b6c6b37e8687c7895'}},\n",
       " {'Key': 'Investing.csv',\n",
       "  'LastModified': datetime.datetime(2021, 6, 2, 15, 9, 50, tzinfo=tzutc()),\n",
       "  'ETag': '\"ebc51270132a921ea46e8ed1fdda322b-2\"',\n",
       "  'Size': 10827019,\n",
       "  'StorageClass': 'STANDARD',\n",
       "  'Owner': {'DisplayName': 'awslabsc0w2127751t1616889910',\n",
       "   'ID': '787d08c84da3b2a4683006801a9d870fccb9d403324a6b5b6c6b37e8687c7895'}},\n",
       " {'Key': 'Other.csv',\n",
       "  'LastModified': datetime.datetime(2021, 6, 2, 15, 10, 40, tzinfo=tzutc()),\n",
       "  'ETag': '\"9820e204284a9bdac04964fafa82792c\"',\n",
       "  'Size': 6075642,\n",
       "  'StorageClass': 'STANDARD',\n",
       "  'Owner': {'DisplayName': 'awslabsc0w2127751t1616889910',\n",
       "   'ID': '787d08c84da3b2a4683006801a9d870fccb9d403324a6b5b6c6b37e8687c7895'}},\n",
       " {'Key': 'Planning.csv',\n",
       "  'LastModified': datetime.datetime(2021, 6, 2, 15, 11, 8, tzinfo=tzutc()),\n",
       "  'ETag': '\"770efde11988379c80ecae1ac3e621f2\"',\n",
       "  'Size': 7204004,\n",
       "  'StorageClass': 'STANDARD',\n",
       "  'Owner': {'DisplayName': 'awslabsc0w2127751t1616889910',\n",
       "   'ID': '787d08c84da3b2a4683006801a9d870fccb9d403324a6b5b6c6b37e8687c7895'}},\n",
       " {'Key': 'Retirement.csv',\n",
       "  'LastModified': datetime.datetime(2021, 6, 2, 15, 11, 41, tzinfo=tzutc()),\n",
       "  'ETag': '\"1d053924f4302acc6aabbb3b2f6f63d0-2\"',\n",
       "  'Size': 12221872,\n",
       "  'StorageClass': 'STANDARD',\n",
       "  'Owner': {'DisplayName': 'awslabsc0w2127751t1616889910',\n",
       "   'ID': '787d08c84da3b2a4683006801a9d870fccb9d403324a6b5b6c6b37e8687c7895'}},\n",
       " {'Key': 'Saving.csv',\n",
       "  'LastModified': datetime.datetime(2021, 6, 2, 15, 12, 39, tzinfo=tzutc()),\n",
       "  'ETag': '\"181bfbd9e8809ba302367577fe536c82\"',\n",
       "  'Size': 5937855,\n",
       "  'StorageClass': 'STANDARD',\n",
       "  'Owner': {'DisplayName': 'awslabsc0w2127751t1616889910',\n",
       "   'ID': '787d08c84da3b2a4683006801a9d870fccb9d403324a6b5b6c6b37e8687c7895'}},\n",
       " {'Key': 'Taxes.csv',\n",
       "  'LastModified': datetime.datetime(2021, 6, 2, 15, 13, 7, tzinfo=tzutc()),\n",
       "  'ETag': '\"3920bce500b51261fd5ec32bba893d70-2\"',\n",
       "  'Size': 9720603,\n",
       "  'StorageClass': 'STANDARD',\n",
       "  'Owner': {'DisplayName': 'awslabsc0w2127751t1616889910',\n",
       "   'ID': '787d08c84da3b2a4683006801a9d870fccb9d403324a6b5b6c6b37e8687c7895'}}]"
      ]
     },
     "execution_count": 42,
     "metadata": {},
     "output_type": "execute_result"
    }
   ],
   "source": [
    "response['Contents']"
   ]
  },
  {
   "cell_type": "code",
   "execution_count": null,
   "metadata": {},
   "outputs": [],
   "source": []
  }
 ],
 "metadata": {
  "kernelspec": {
   "display_name": "Python 3",
   "language": "python",
   "name": "python3"
  },
  "language_info": {
   "codemirror_mode": {
    "name": "ipython",
    "version": 3
   },
   "file_extension": ".py",
   "mimetype": "text/x-python",
   "name": "python",
   "nbconvert_exporter": "python",
   "pygments_lexer": "ipython3",
   "version": "3.8.5"
  }
 },
 "nbformat": 4,
 "nbformat_minor": 4
}
